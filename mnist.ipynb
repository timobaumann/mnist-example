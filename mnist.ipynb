{
 "cells": [
  {
   "cell_type": "markdown",
   "metadata": {},
   "source": [
    "# Beispielcode für ein NN das Ziffern zu unterscheiden lernt\n",
    "Beachten Sie insbesondere die Zelle in der MNISTClassifier definiert wird.\n"
   ]
  },
  {
   "cell_type": "code",
   "execution_count": 7,
   "metadata": {},
   "outputs": [],
   "source": [
    "import time\n",
    "import random\n",
    "import os\n",
    "import struct\n",
    "import argparse\n",
    "import numpy as np\n",
    "import dynet as dy\n",
    "import ipywidgets as widgets\n",
    "import PIL.Image\n",
    "dy.sigmoid = dy.logistic"
   ]
  },
  {
   "cell_type": "code",
   "execution_count": 8,
   "metadata": {},
   "outputs": [],
   "source": [
    "# minimally adapted from https://gist.github.com/akesling/5358964\n",
    "def read_mnist(dataset, path=\"../mnist-dynet\"):\n",
    "    if dataset == \"training\":\n",
    "        fname_img = os.path.join(path, \"train-images-idx3-ubyte\")\n",
    "        fname_lbl = os.path.join(path, \"train-labels-idx1-ubyte\")\n",
    "    elif dataset == \"testing\":\n",
    "        fname_img = os.path.join(path, \"t10k-images-idx3-ubyte\")\n",
    "        fname_lbl = os.path.join(path, \"t10k-labels-idx1-ubyte\")\n",
    "    else:\n",
    "        raise ValueError(\"dataset must be 'testing' or 'training'\")\n",
    "\n",
    "    # Load everything in some numpy arrays\n",
    "    with open(fname_lbl, \"rb\") as flbl:\n",
    "        magic, num = struct.unpack(\">II\", flbl.read(8))\n",
    "        labels = np.fromfile(flbl, dtype=np.int8)\n",
    "\n",
    "    with open(fname_img, \"rb\") as fimg:\n",
    "        magic, num, rows, cols = struct.unpack(\">IIII\", fimg.read(16))\n",
    "        images = np.multiply(\n",
    "            np.fromfile(fimg, dtype=np.uint8).reshape(len(labels), rows*cols),\n",
    "            1.0 / 255.0)\n",
    "\n",
    "    get_instance = lambda idx: (labels[idx], images[idx])\n",
    "\n",
    "    # Create an iterator which returns each image in turn\n",
    "    for i in range(len(labels)):\n",
    "        yield get_instance(i)\n",
    "        \n",
    "training = [(lbl, img) for (lbl, img) in read_mnist(\"training\")]\n",
    "testing = [(lbl, img) for (lbl, img) in read_mnist(\"testing\")]"
   ]
  },
  {
   "cell_type": "code",
   "execution_count": 9,
   "metadata": {},
   "outputs": [],
   "source": [
    "HIDDEN_DIM1 = 32\n",
    "HIDDEN_DIM2 = 16 \n",
    "DROPOUT_RATE = 0.5"
   ]
  },
  {
   "cell_type": "code",
   "execution_count": 10,
   "metadata": {},
   "outputs": [],
   "source": [
    "class MNISTClassify(object):\n",
    "    '''Classifier with two hidden layers'''\n",
    "    def __init__(self, m):\n",
    "        input_size = 28 * 28\n",
    "        self.W1 = m.add_parameters((HIDDEN_DIM1, input_size))\n",
    "        self.b1 = m.add_parameters((HIDDEN_DIM1, ))\n",
    "        self.W2 = m.add_parameters((HIDDEN_DIM2, HIDDEN_DIM1))\n",
    "        self.b2 = m.add_parameters((HIDDEN_DIM2, ))\n",
    "        self.W3 = m.add_parameters((10, HIDDEN_DIM2))\n",
    "        self.b3 = m.add_parameters((10, ))\n",
    "\n",
    "    def __call__(self, x, isTrain=False):\n",
    "        # erste innere Schicht:\n",
    "        h1 = dy.sigmoid(self.W1 * x + self.b1)\n",
    "        # zweite innere Schicht:\n",
    "        h2 = dy.sigmoid(self.W2 * h1 + self.b2)\n",
    "        # Ergebnisschicht:\n",
    "        activation = dy.sigmoid(self.W3 * h2 + self.b3)\n",
    "        return activation"
   ]
  },
  {
   "cell_type": "code",
   "execution_count": 13,
   "metadata": {},
   "outputs": [
    {
     "name": "stdout",
     "output_type": "stream",
     "text": [
      "Epoch 1 starting\n",
      "Held out accuracy 0.9197 (3187.3766538922464 instances/sec)\n",
      "   T0    T1    T2    T3    T4    T5    T6    T7    T8    T9    \n",
      "P0 957   0     10    2     0     16    11    2     4     4     \n",
      "P1 0     1091  2     0     1     1     3     5     2     3     \n",
      "P2 3     5     939   24    7     11    14    28    8     0     \n",
      "P3 2     8     27    916   0     22    2     12    26    14    \n",
      "P4 0     1     11    0     915   8     7     10    7     22    \n",
      "P5 6     1     5     47    2     795   32    2     49    26    \n",
      "P6 6     3     7     0     14    8     876   0     6     3     \n",
      "P7 2     1     9     10    2     5     1     927   2     8     \n",
      "P8 4     24    20    9     8     21    12    4     869   17    \n",
      "P9 0     1     2     2     33    5     0     38    1     912   \n",
      "instances per sec: 1987.5762740493692\n",
      "Epoch 2 starting\n",
      "Held out accuracy 0.9285 (3434.3933081184928 instances/sec)\n",
      "   T0    T1    T2    T3    T4    T5    T6    T7    T8    T9    \n",
      "P0 945   0     6     0     0     10    7     1     4     4     \n",
      "P1 0     1095  0     1     2     1     2     4     2     5     \n",
      "P2 10    9     962   29    6     11    13    28    7     3     \n",
      "P3 4     6     20    932   0     34    2     4     16    12    \n",
      "P4 0     1     9     0     922   11    7     10    11    35    \n",
      "P5 4     1     1     24    0     774   14    1     25    13    \n",
      "P6 11    3     13    0     23    22    908   1     18    2     \n",
      "P7 3     1     9     14    2     4     0     952   3     6     \n",
      "P8 3     18    12    6     4     15    5     2     878   12    \n",
      "P9 0     1     0     4     23    10    0     25    10    917   \n",
      "instances per sec: 2049.080077646234\n",
      "Epoch 3 starting\n",
      "Held out accuracy 0.932 (3285.8692558546945 instances/sec)\n",
      "   T0    T1    T2    T3    T4    T5    T6    T7    T8    T9    \n",
      "P0 952   0     5     1     0     7     8     1     3     4     \n",
      "P1 0     1119  4     1     4     4     4     11    15    8     \n",
      "P2 0     4     941   15    3     2     3     15    5     0     \n",
      "P3 3     3     25    947   0     32    1     10    16    10    \n",
      "P4 1     0     11    0     933   7     13    11    9     34    \n",
      "P5 9     3     5     17    2     800   32    1     27    19    \n",
      "P6 9     3     11    0     10    12    889   0     9     1     \n",
      "P7 2     0     14    11    2     3     0     940   3     6     \n",
      "P8 4     2     16    15    5     16    8     0     878   6     \n",
      "P9 0     1     0     3     23    9     0     39    9     921   \n",
      "instances per sec: 2068.8370513402283\n",
      "Epoch 4 starting\n",
      "Held out accuracy 0.9361 (3753.1064458286764 instances/sec)\n",
      "   T0    T1    T2    T3    T4    T5    T6    T7    T8    T9    \n",
      "P0 963   0     10    1     1     13    11    2     6     8     \n",
      "P1 0     1110  3     1     2     1     3     5     2     6     \n",
      "P2 2     5     936   10    3     5     8     14    6     0     \n",
      "P3 2     5     31    956   0     46    3     7     16    14    \n",
      "P4 0     0     8     0     918   9     6     3     8     22    \n",
      "P5 4     1     1     11    0     761   11    0     7     6     \n",
      "P6 5     3     9     0     13    15    905   0     10    2     \n",
      "P7 3     1     19    21    5     5     1     986   9     18    \n",
      "P8 1     9     13    8     5     23    10    1     896   3     \n",
      "P9 0     1     2     2     35    14    0     10    14    930   \n",
      "instances per sec: 2086.479405723463\n"
     ]
    }
   ],
   "source": [
    "m = dy.Model()\n",
    "classify = MNISTClassify(m)\n",
    "#sgd = dy.SimpleSGDTrainer(m, learning_rate=0.01)\n",
    "sgd = dy.AdamTrainer(m)\n",
    "dev_time = 0\n",
    "\n",
    "start = time.time()\n",
    "for epoch in range(1,5):\n",
    "    random.shuffle(training)\n",
    "    print((\"Epoch {} starting\".format(epoch)))\n",
    "    # train model:\n",
    "    for cls, img in training:\n",
    "        dy.renew_cg()\n",
    "        # Bild als Eingabe aufbereiten\n",
    "        x = dy.inputVector(img)\n",
    "        # Outputaktivierung berechnen\n",
    "        output = classify(x, isTrain=True)\n",
    "        # \"idealen\" Output (überall 0, nur gewählte Klasse ist 1)\n",
    "        ideal = np.zeros(10)\n",
    "        ideal[cls] = 1\n",
    "        ideal = dy.inputVector(ideal)\n",
    "        # Kostenfunktion berechnen\n",
    "        loss = 0.5 * dy.sum_elems((output - ideal) ** 2)\n",
    "        # Kosten den einzelnen Parametern zuordnen\n",
    "        loss.backward()\n",
    "        # Parameter entsprechend anpassen\n",
    "        sgd.update()\n",
    "\n",
    "    # test performance of classifier:\n",
    "    confusion = [[0 for _ in range(10)] for _ in range(10)]\n",
    "    correct = 0\n",
    "    dev_start = time.time()\n",
    "    for cls, img in testing:\n",
    "        dy.renew_cg()\n",
    "        x = dy.inputVector(img)\n",
    "        output = classify(x, isTrain=False)\n",
    "        prediction = max([(v,i) for (i,v) in enumerate(output.value())])[1]\n",
    "        if cls == prediction:\n",
    "            correct += 1\n",
    "        confusion[prediction][cls] += 1\n",
    "    dev_end = time.time()\n",
    "    acc = float(correct) / len(testing)\n",
    "    dev_time += dev_end - dev_start\n",
    "    print((\"Held out accuracy {} ({} instances/sec)\".format(\n",
    "        acc, len(testing) / (dev_end - dev_start))))\n",
    "    print('   ' + ''.join(('T'+str(x)).ljust(6) for x in range(10)))\n",
    "    for p, row in enumerate(confusion):\n",
    "        s = 'P' + str(p) + ' '\n",
    "        s += ''.join(str(col).ljust(6) for col in row)\n",
    "        print(s)\n",
    "\n",
    "    end = time.time()\n",
    "    print((\"instances per sec: {}\".format(\n",
    "                (epoch * len(training)) / (end - start - dev_time))))"
   ]
  },
  {
   "cell_type": "code",
   "execution_count": 8,
   "metadata": {},
   "outputs": [],
   "source": [
    "class MNISTClassify(object):\n",
    "    def __init__(self, m):\n",
    "        input_size = 28 * 28\n",
    "        self.W1 = m.add_parameters((HIDDEN_DIM1, input_size))\n",
    "        self.h1bias = m.add_parameters((HIDDEN_DIM1, ))\n",
    "        if HIDDEN_DIM2:\n",
    "            self.W2 = m.add_parameters((HIDDEN_DIM2, HIDDEN_DIM1))\n",
    "            self.h2bias = m.add_parameters((HIDDEN_DIM2 if HIDDEN_DIM2 else HIDDEN_DIM1, ))\n",
    "        self.W3 = m.add_parameters((10, HIDDEN_DIM2 if HIDDEN_DIM2 else HIDDEN_DIM1))\n",
    "\n",
    "    def __call__(self, x, isTrain=False):\n",
    "        h1 = dy.sigmoid(self.W1 * x + self.h1bias)\n",
    "        if isTrain:\n",
    "            h1 = dy.dropout(h1, DROPOUT_RATE)\n",
    "        if HIDDEN_DIM2:\n",
    "            h2 = dy.sigmoid(self.W2 * h1 + self.h2bias)\n",
    "            if isTrain:\n",
    "                h2 = dy.dropout(h2, DROPOUT_RATE)\n",
    "        activation = dy.sigmoid(self.W3 * (h2 if HIDDEN_DIM2 else h1))\n",
    "        return activation"
   ]
  },
  {
   "cell_type": "code",
   "execution_count": 12,
   "metadata": {},
   "outputs": [],
   "source": [
    "class MNISTClassify(object):\n",
    "    def __init__(self, m):\n",
    "        input_size = 28 * 28\n",
    "        self.W1 = m.add_parameters((HIDDEN_DIM1, input_size))\n",
    "        self.b1 = m.add_parameters((HIDDEN_DIM1, ))\n",
    "        self.W2 = m.add_parameters((HIDDEN_DIM2, HIDDEN_DIM1 + input_size))\n",
    "        self.b2 = m.add_parameters((HIDDEN_DIM2, ))\n",
    "        self.W3 = m.add_parameters((10, HIDDEN_DIM2))\n",
    "        self.b3 = m.add_parameters((10, ))\n",
    "\n",
    "    def __call__(self, x, isTrain=False):\n",
    "        # erste innere Schicht:\n",
    "        h1 = dy.sigmoid(self.W1 * x + self.b1)\n",
    "        # zweite innere Schicht:\n",
    "        h2_input = dy.concatenate([x, h1])\n",
    "        h2 = dy.sigmoid(self.W2 * h2_input + self.b2)\n",
    "        if isTrain:\n",
    "            h2 = dy.dropout(h2, DROPOUT_RATE)\n",
    "        # Ergebnisschicht:\n",
    "        activation = dy.sigmoid(self.W3 * h2 + self.b3)\n",
    "        return activation"
   ]
  },
  {
   "cell_type": "code",
   "execution_count": 6,
   "metadata": {},
   "outputs": [
    {
     "name": "stderr",
     "output_type": "stream",
     "text": [
      "Widget Javascript not detected.  It may not be installed or enabled properly.\n"
     ]
    },
    {
     "data": {
      "application/vnd.jupyter.widget-view+json": {
       "model_id": "40111d3dfc8e48a0840641883720a992"
      }
     },
     "metadata": {},
     "output_type": "display_data"
    }
   ],
   "source": [
    "import io\n",
    "buffer = io.BytesIO()\n",
    "PIL.Image.fromarray((255*training[0][1]).reshape(28, 28)).convert('L').save(buffer, format=\"PNG\")\n",
    "widgets.Image(value=buffer.getvalue(),width=28,height=28)\n"
   ]
  },
  {
   "cell_type": "code",
   "execution_count": null,
   "metadata": {},
   "outputs": [],
   "source": []
  }
 ],
 "metadata": {
  "kernelspec": {
   "display_name": "Python 3",
   "language": "python",
   "name": "python3"
  },
  "language_info": {
   "codemirror_mode": {
    "name": "ipython",
    "version": 3
   },
   "file_extension": ".py",
   "mimetype": "text/x-python",
   "name": "python",
   "nbconvert_exporter": "python",
   "pygments_lexer": "ipython3",
   "version": "3.8.10"
  }
 },
 "nbformat": 4,
 "nbformat_minor": 2
}
